{
 "cells": [
  {
   "cell_type": "code",
   "execution_count": 1,
   "id": "61196ae3-17b5-4311-8251-879c1db16a83",
   "metadata": {},
   "outputs": [],
   "source": [
    "import dripline"
   ]
  },
  {
   "cell_type": "code",
   "execution_count": 3,
   "id": "575899c0-0b23-4af0-a6da-7ca3e678c16f",
   "metadata": {},
   "outputs": [],
   "source": [
    "ifc = dripline.core.Interface(dripline_config={'auth-file':'/root/authentications.json'})"
   ]
  },
  {
   "cell_type": "code",
   "execution_count": 4,
   "id": "49c95448-b09a-4be9-9321-f02fb58516f4",
   "metadata": {},
   "outputs": [
    {
     "name": "stdout",
     "output_type": "stream",
     "text": [
      "\u001b[1;34m2024-08-02 23:59:08 [ PROG] ignal_handler.cc(359): Handling signal <2>; return code: 0\u001b[0m\n"
     ]
    }
   ],
   "source": [
    "result=ifc.get('peaches')"
   ]
  },
  {
   "cell_type": "code",
   "execution_count": null,
   "id": "be961b67-d8e0-4ee9-bc92-50c1a312b960",
   "metadata": {},
   "outputs": [],
   "source": []
  }
 ],
 "metadata": {
  "kernelspec": {
   "display_name": "Python 3 (ipykernel)",
   "language": "python",
   "name": "python3"
  },
  "language_info": {
   "codemirror_mode": {
    "name": "ipython",
    "version": 3
   },
   "file_extension": ".py",
   "mimetype": "text/x-python",
   "name": "python",
   "nbconvert_exporter": "python",
   "pygments_lexer": "ipython3",
   "version": "3.12.1"
  }
 },
 "nbformat": 4,
 "nbformat_minor": 5
}
